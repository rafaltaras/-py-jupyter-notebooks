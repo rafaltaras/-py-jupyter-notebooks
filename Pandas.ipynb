{
 "cells": [
  {
   "cell_type": "markdown",
   "id": "e2cfbeda-843e-4528-96ff-dd460fb70255",
   "metadata": {},
   "source": [
    "salaries = [\n",
    "\t(\"Mark\", 1000),\n",
    "\t(\"John\", 1500),\n",
    "\t(\"Daniel\", 2300),\n",
    "\t(\"Greg\", 5000)\n",
    "]\n"
   ]
  },
  {
   "cell_type": "code",
   "execution_count": null,
   "id": "cfdd06b0-a00e-47ab-95bf-316550066ce4",
   "metadata": {},
   "outputs": [
    {
     "data": {
      "text/plain": [
       "'1.4.4'"
      ]
     },
     "execution_count": 3,
     "metadata": {},
     "output_type": "execute_result"
    }
   ],
   "source": [
    "import pandas as pd\n",
    "pd.__version__"
   ]
  },
  {
   "cell_type": "code",
   "execution_count": 30,
   "id": "eb318407-f5a7-4628-8e79-46b9d2458338",
   "metadata": {},
   "outputs": [],
   "source": [
    "# SERIES"
   ]
  },
  {
   "cell_type": "code",
   "execution_count": 4,
   "id": "41ba21e8-a9d4-4f90-ad7e-84372beb3d22",
   "metadata": {},
   "outputs": [
    {
     "data": {
      "text/plain": [
       "0      Mark\n",
       "1      John\n",
       "2    Daniel\n",
       "3      Greg\n",
       "dtype: object"
      ]
     },
     "execution_count": 4,
     "metadata": {},
     "output_type": "execute_result"
    }
   ],
   "source": [
    "names_series = pd.Series([\"Mark\", \"John\", \"Daniel\", \"Greg\"])\n",
    "names_series"
   ]
  },
  {
   "cell_type": "code",
   "execution_count": 5,
   "id": "876386a5-0148-49e0-8c35-68957da55f3b",
   "metadata": {},
   "outputs": [
    {
     "data": {
      "text/plain": [
       "0    1000\n",
       "1    1500\n",
       "2    2300\n",
       "3    5000\n",
       "dtype: int64"
      ]
     },
     "execution_count": 5,
     "metadata": {},
     "output_type": "execute_result"
    }
   ],
   "source": [
    "salary_series = pd.Series([1000, 1500, 2300, 5000])\n",
    "salary_series"
   ]
  },
  {
   "cell_type": "code",
   "execution_count": 6,
   "id": "efeb10d6-df1e-486c-a912-173117316006",
   "metadata": {},
   "outputs": [
    {
     "data": {
      "text/plain": [
       "count        4\n",
       "unique       4\n",
       "top       Mark\n",
       "freq         1\n",
       "dtype: object"
      ]
     },
     "execution_count": 6,
     "metadata": {},
     "output_type": "execute_result"
    }
   ],
   "source": [
    "names_series.describe()"
   ]
  },
  {
   "cell_type": "code",
   "execution_count": 7,
   "id": "44b76248-4bbe-46f3-9091-7952a6c52788",
   "metadata": {},
   "outputs": [
    {
     "data": {
      "text/plain": [
       "count       4.000000\n",
       "mean     2450.000000\n",
       "std      1782.320585\n",
       "min      1000.000000\n",
       "25%      1375.000000\n",
       "50%      1900.000000\n",
       "75%      2975.000000\n",
       "max      5000.000000\n",
       "dtype: float64"
      ]
     },
     "execution_count": 7,
     "metadata": {},
     "output_type": "execute_result"
    }
   ],
   "source": [
    "salary_series.describe()"
   ]
  },
  {
   "cell_type": "code",
   "execution_count": 25,
   "id": "913afc2a-334a-40c9-9bc8-32a0e3b067b2",
   "metadata": {},
   "outputs": [
    {
     "name": "stdout",
     "output_type": "stream",
     "text": [
      "0    1100\n",
      "1    1600\n",
      "2    2400\n",
      "3    5100\n",
      "dtype: int64\n"
     ]
    }
   ],
   "source": [
    "salary_series = pd.Series([1000, 1500, 2300, 5000])\n",
    "new_salary_series = []\n",
    "for i in salary_series:\n",
    "    i = i + 100\n",
    "    new_salary_series.append(i)\n",
    "salary_series = pd.Series(new_salary_series)\n",
    "print(salary_series)"
   ]
  },
  {
   "cell_type": "code",
   "execution_count": 26,
   "id": "45c3af9e-14ec-4824-957c-1d63b7257824",
   "metadata": {},
   "outputs": [
    {
     "data": {
      "text/plain": [
       "Mark      1100\n",
       "John      1600\n",
       "Daniel    2400\n",
       "Greg      5100\n",
       "dtype: int64"
      ]
     },
     "execution_count": 26,
     "metadata": {},
     "output_type": "execute_result"
    }
   ],
   "source": [
    "salary_series.index = names_series\n",
    "salary_series"
   ]
  },
  {
   "cell_type": "code",
   "execution_count": 27,
   "id": "ad663a0c-798a-4523-aa47-00da4aa2575c",
   "metadata": {},
   "outputs": [
    {
     "data": {
      "text/plain": [
       "1100"
      ]
     },
     "execution_count": 27,
     "metadata": {},
     "output_type": "execute_result"
    }
   ],
   "source": [
    "salary_series['Mark']"
   ]
  },
  {
   "cell_type": "code",
   "execution_count": 29,
   "id": "67056db2-0002-4200-8854-8dcf359a679d",
   "metadata": {},
   "outputs": [
    {
     "name": "stdout",
     "output_type": "stream",
     "text": [
      "Mark      1000\n",
      "John      1500\n",
      "Daniel    2300\n",
      "Greg      5000\n",
      "dtype: int64\n"
     ]
    }
   ],
   "source": [
    "names = [\"Mark\", \"John\", \"Daniel\", \"Greg\"]\n",
    "salaries = [1000, 1500, 2300, 5000]\n",
    "salary_series_improved = pd.Series(salaries, index=names)\n",
    "print(salary_series_improved)"
   ]
  },
  {
   "cell_type": "code",
   "execution_count": 31,
   "id": "f2e57879-c697-4ee8-a4d1-f932634627ae",
   "metadata": {},
   "outputs": [],
   "source": [
    "# DataFrame"
   ]
  },
  {
   "cell_type": "code",
   "execution_count": 32,
   "id": "07a57cb2-e5c2-4e41-91c2-787bc833fcac",
   "metadata": {},
   "outputs": [],
   "source": [
    "salaries = [\n",
    "\t(\"Mark\", 1000, 23),\n",
    "\t(\"John\", 1500, 25),\n",
    "\t(\"Daniel\", 2300, 38),\n",
    "\t(\"Greg\", 5000, 42)\n",
    "]"
   ]
  },
  {
   "cell_type": "code",
   "execution_count": 33,
   "id": "21488542-ebb8-4632-8a69-280b2c8748b8",
   "metadata": {},
   "outputs": [
    {
     "data": {
      "text/html": [
       "<div>\n",
       "<style scoped>\n",
       "    .dataframe tbody tr th:only-of-type {\n",
       "        vertical-align: middle;\n",
       "    }\n",
       "\n",
       "    .dataframe tbody tr th {\n",
       "        vertical-align: top;\n",
       "    }\n",
       "\n",
       "    .dataframe thead th {\n",
       "        text-align: right;\n",
       "    }\n",
       "</style>\n",
       "<table border=\"1\" class=\"dataframe\">\n",
       "  <thead>\n",
       "    <tr style=\"text-align: right;\">\n",
       "      <th></th>\n",
       "      <th>0</th>\n",
       "      <th>1</th>\n",
       "      <th>2</th>\n",
       "    </tr>\n",
       "  </thead>\n",
       "  <tbody>\n",
       "    <tr>\n",
       "      <th>0</th>\n",
       "      <td>Mark</td>\n",
       "      <td>1000</td>\n",
       "      <td>23</td>\n",
       "    </tr>\n",
       "    <tr>\n",
       "      <th>1</th>\n",
       "      <td>John</td>\n",
       "      <td>1500</td>\n",
       "      <td>25</td>\n",
       "    </tr>\n",
       "    <tr>\n",
       "      <th>2</th>\n",
       "      <td>Daniel</td>\n",
       "      <td>2300</td>\n",
       "      <td>38</td>\n",
       "    </tr>\n",
       "    <tr>\n",
       "      <th>3</th>\n",
       "      <td>Greg</td>\n",
       "      <td>5000</td>\n",
       "      <td>42</td>\n",
       "    </tr>\n",
       "  </tbody>\n",
       "</table>\n",
       "</div>"
      ],
      "text/plain": [
       "        0     1   2\n",
       "0    Mark  1000  23\n",
       "1    John  1500  25\n",
       "2  Daniel  2300  38\n",
       "3    Greg  5000  42"
      ]
     },
     "execution_count": 33,
     "metadata": {},
     "output_type": "execute_result"
    }
   ],
   "source": [
    "df = pd.DataFrame(salaries)\n",
    "df"
   ]
  },
  {
   "cell_type": "code",
   "execution_count": 40,
   "id": "f2771f3a-7d21-4896-aa27-0552a489b2da",
   "metadata": {},
   "outputs": [
    {
     "data": {
      "text/html": [
       "<div>\n",
       "<style scoped>\n",
       "    .dataframe tbody tr th:only-of-type {\n",
       "        vertical-align: middle;\n",
       "    }\n",
       "\n",
       "    .dataframe tbody tr th {\n",
       "        vertical-align: top;\n",
       "    }\n",
       "\n",
       "    .dataframe thead th {\n",
       "        text-align: right;\n",
       "    }\n",
       "</style>\n",
       "<table border=\"1\" class=\"dataframe\">\n",
       "  <thead>\n",
       "    <tr style=\"text-align: right;\">\n",
       "      <th></th>\n",
       "      <th>salary</th>\n",
       "      <th>age</th>\n",
       "    </tr>\n",
       "    <tr>\n",
       "      <th>name</th>\n",
       "      <th></th>\n",
       "      <th></th>\n",
       "    </tr>\n",
       "  </thead>\n",
       "  <tbody>\n",
       "    <tr>\n",
       "      <th>Mark</th>\n",
       "      <td>1000</td>\n",
       "      <td>23</td>\n",
       "    </tr>\n",
       "    <tr>\n",
       "      <th>John</th>\n",
       "      <td>1500</td>\n",
       "      <td>25</td>\n",
       "    </tr>\n",
       "    <tr>\n",
       "      <th>Daniel</th>\n",
       "      <td>2300</td>\n",
       "      <td>38</td>\n",
       "    </tr>\n",
       "    <tr>\n",
       "      <th>Greg</th>\n",
       "      <td>5000</td>\n",
       "      <td>42</td>\n",
       "    </tr>\n",
       "  </tbody>\n",
       "</table>\n",
       "</div>"
      ],
      "text/plain": [
       "        salary  age\n",
       "name               \n",
       "Mark      1000   23\n",
       "John      1500   25\n",
       "Daniel    2300   38\n",
       "Greg      5000   42"
      ]
     },
     "execution_count": 40,
     "metadata": {},
     "output_type": "execute_result"
    }
   ],
   "source": [
    "df = pd.DataFrame(salaries, columns=[\"name\", \"salary\", \"age\"])\n",
    "df = df.set_index(\"name\")\n",
    "df"
   ]
  },
  {
   "cell_type": "code",
   "execution_count": 35,
   "id": "f4b7f29c-a1fc-4d71-8eb1-54c01c637189",
   "metadata": {},
   "outputs": [
    {
     "data": {
      "text/html": [
       "<div>\n",
       "<style scoped>\n",
       "    .dataframe tbody tr th:only-of-type {\n",
       "        vertical-align: middle;\n",
       "    }\n",
       "\n",
       "    .dataframe tbody tr th {\n",
       "        vertical-align: top;\n",
       "    }\n",
       "\n",
       "    .dataframe thead th {\n",
       "        text-align: right;\n",
       "    }\n",
       "</style>\n",
       "<table border=\"1\" class=\"dataframe\">\n",
       "  <thead>\n",
       "    <tr style=\"text-align: right;\">\n",
       "      <th></th>\n",
       "      <th>salary</th>\n",
       "      <th>age</th>\n",
       "    </tr>\n",
       "  </thead>\n",
       "  <tbody>\n",
       "    <tr>\n",
       "      <th>count</th>\n",
       "      <td>4.000000</td>\n",
       "      <td>4.000000</td>\n",
       "    </tr>\n",
       "    <tr>\n",
       "      <th>mean</th>\n",
       "      <td>2450.000000</td>\n",
       "      <td>32.000000</td>\n",
       "    </tr>\n",
       "    <tr>\n",
       "      <th>std</th>\n",
       "      <td>1782.320585</td>\n",
       "      <td>9.416298</td>\n",
       "    </tr>\n",
       "    <tr>\n",
       "      <th>min</th>\n",
       "      <td>1000.000000</td>\n",
       "      <td>23.000000</td>\n",
       "    </tr>\n",
       "    <tr>\n",
       "      <th>25%</th>\n",
       "      <td>1375.000000</td>\n",
       "      <td>24.500000</td>\n",
       "    </tr>\n",
       "    <tr>\n",
       "      <th>50%</th>\n",
       "      <td>1900.000000</td>\n",
       "      <td>31.500000</td>\n",
       "    </tr>\n",
       "    <tr>\n",
       "      <th>75%</th>\n",
       "      <td>2975.000000</td>\n",
       "      <td>39.000000</td>\n",
       "    </tr>\n",
       "    <tr>\n",
       "      <th>max</th>\n",
       "      <td>5000.000000</td>\n",
       "      <td>42.000000</td>\n",
       "    </tr>\n",
       "  </tbody>\n",
       "</table>\n",
       "</div>"
      ],
      "text/plain": [
       "            salary        age\n",
       "count     4.000000   4.000000\n",
       "mean   2450.000000  32.000000\n",
       "std    1782.320585   9.416298\n",
       "min    1000.000000  23.000000\n",
       "25%    1375.000000  24.500000\n",
       "50%    1900.000000  31.500000\n",
       "75%    2975.000000  39.000000\n",
       "max    5000.000000  42.000000"
      ]
     },
     "execution_count": 35,
     "metadata": {},
     "output_type": "execute_result"
    }
   ],
   "source": [
    "df.describe()"
   ]
  },
  {
   "cell_type": "code",
   "execution_count": 36,
   "id": "7e9b942c-be1d-425e-b68f-b0cd1e220241",
   "metadata": {},
   "outputs": [],
   "source": [
    "salary_increased_series = df['salary'].apply(lambda salary: salary + 2000)\n",
    "df['salary'] = salary_increased_series"
   ]
  },
  {
   "cell_type": "code",
   "execution_count": 37,
   "id": "bc0caa1c-3ed2-4a04-9b6d-636c45396be9",
   "metadata": {},
   "outputs": [
    {
     "data": {
      "text/plain": [
       "name\n",
       "Mark      5000\n",
       "John      5500\n",
       "Daniel    6300\n",
       "Greg      9000\n",
       "Name: salary, dtype: int64"
      ]
     },
     "execution_count": 37,
     "metadata": {},
     "output_type": "execute_result"
    }
   ],
   "source": [
    "salary_raise = [2000, 2000, 2000, 2000]\n",
    "df['salary'] + salary_raise"
   ]
  },
  {
   "cell_type": "code",
   "execution_count": 70,
   "id": "5a52d170-5c57-4177-b1f8-148346abf09b",
   "metadata": {},
   "outputs": [],
   "source": [
    "salaries = [\n",
    "\t(\"Mark\", 1000, 23, \"\"),\n",
    "\t(\"John\", 1500, 25, \"\"),\n",
    "\t(\"Daniel\", 2300, 38, \"\"),\n",
    "\t(\"Greg\", 5000, 42, \"\")\n",
    "]"
   ]
  },
  {
   "cell_type": "code",
   "execution_count": 87,
   "id": "a89adec5-7a48-443d-abae-58fcc430cc8a",
   "metadata": {},
   "outputs": [
    {
     "data": {
      "text/html": [
       "<div>\n",
       "<style scoped>\n",
       "    .dataframe tbody tr th:only-of-type {\n",
       "        vertical-align: middle;\n",
       "    }\n",
       "\n",
       "    .dataframe tbody tr th {\n",
       "        vertical-align: top;\n",
       "    }\n",
       "\n",
       "    .dataframe thead th {\n",
       "        text-align: right;\n",
       "    }\n",
       "</style>\n",
       "<table border=\"1\" class=\"dataframe\">\n",
       "  <thead>\n",
       "    <tr style=\"text-align: right;\">\n",
       "      <th></th>\n",
       "      <th>salary</th>\n",
       "      <th>age</th>\n",
       "      <th>initials</th>\n",
       "    </tr>\n",
       "    <tr>\n",
       "      <th>name</th>\n",
       "      <th></th>\n",
       "      <th></th>\n",
       "      <th></th>\n",
       "    </tr>\n",
       "  </thead>\n",
       "  <tbody>\n",
       "    <tr>\n",
       "      <th>Mark</th>\n",
       "      <td>1000</td>\n",
       "      <td>23</td>\n",
       "      <td></td>\n",
       "    </tr>\n",
       "    <tr>\n",
       "      <th>John</th>\n",
       "      <td>1500</td>\n",
       "      <td>25</td>\n",
       "      <td></td>\n",
       "    </tr>\n",
       "    <tr>\n",
       "      <th>Daniel</th>\n",
       "      <td>2300</td>\n",
       "      <td>38</td>\n",
       "      <td></td>\n",
       "    </tr>\n",
       "    <tr>\n",
       "      <th>Greg</th>\n",
       "      <td>5000</td>\n",
       "      <td>42</td>\n",
       "      <td></td>\n",
       "    </tr>\n",
       "  </tbody>\n",
       "</table>\n",
       "</div>"
      ],
      "text/plain": [
       "        salary  age initials\n",
       "name                        \n",
       "Mark      1000   23         \n",
       "John      1500   25         \n",
       "Daniel    2300   38         \n",
       "Greg      5000   42         "
      ]
     },
     "execution_count": 87,
     "metadata": {},
     "output_type": "execute_result"
    }
   ],
   "source": [
    "df = pd.DataFrame(salaries, columns=[\"name\", \"salary\", \"age\", \"initials\"])\n",
    "df = df.set_index(\"name\")\n",
    "df"
   ]
  },
  {
   "cell_type": "code",
   "execution_count": 78,
   "id": "7961f56e-5798-46e5-9c93-fc8b365a6633",
   "metadata": {},
   "outputs": [
    {
     "name": "stdout",
     "output_type": "stream",
     "text": [
      "['M', 'J', 'D', 'G']\n"
     ]
    }
   ],
   "source": [
    "initials = []\n",
    "for i in salaries:\n",
    "    i = i [0]\n",
    "    for j in i:\n",
    "        j = j[0]\n",
    "        initials.append(j)\n",
    "        break\n",
    "print(initials)"
   ]
  },
  {
   "cell_type": "code",
   "execution_count": 88,
   "id": "54c303a2-8045-4123-a11a-878bbf8bb7e7",
   "metadata": {},
   "outputs": [
    {
     "data": {
      "text/html": [
       "<div>\n",
       "<style scoped>\n",
       "    .dataframe tbody tr th:only-of-type {\n",
       "        vertical-align: middle;\n",
       "    }\n",
       "\n",
       "    .dataframe tbody tr th {\n",
       "        vertical-align: top;\n",
       "    }\n",
       "\n",
       "    .dataframe thead th {\n",
       "        text-align: right;\n",
       "    }\n",
       "</style>\n",
       "<table border=\"1\" class=\"dataframe\">\n",
       "  <thead>\n",
       "    <tr style=\"text-align: right;\">\n",
       "      <th></th>\n",
       "      <th>salary</th>\n",
       "      <th>age</th>\n",
       "      <th>initials</th>\n",
       "    </tr>\n",
       "    <tr>\n",
       "      <th>name</th>\n",
       "      <th></th>\n",
       "      <th></th>\n",
       "      <th></th>\n",
       "    </tr>\n",
       "  </thead>\n",
       "  <tbody>\n",
       "    <tr>\n",
       "      <th>Mark</th>\n",
       "      <td>1000</td>\n",
       "      <td>23</td>\n",
       "      <td>M</td>\n",
       "    </tr>\n",
       "    <tr>\n",
       "      <th>John</th>\n",
       "      <td>1500</td>\n",
       "      <td>25</td>\n",
       "      <td>J</td>\n",
       "    </tr>\n",
       "    <tr>\n",
       "      <th>Daniel</th>\n",
       "      <td>2300</td>\n",
       "      <td>38</td>\n",
       "      <td>D</td>\n",
       "    </tr>\n",
       "    <tr>\n",
       "      <th>Greg</th>\n",
       "      <td>5000</td>\n",
       "      <td>42</td>\n",
       "      <td>G</td>\n",
       "    </tr>\n",
       "  </tbody>\n",
       "</table>\n",
       "</div>"
      ],
      "text/plain": [
       "        salary  age initials\n",
       "name                        \n",
       "Mark      1000   23        M\n",
       "John      1500   25        J\n",
       "Daniel    2300   38        D\n",
       "Greg      5000   42        G"
      ]
     },
     "execution_count": 88,
     "metadata": {},
     "output_type": "execute_result"
    }
   ],
   "source": [
    "df['initials'] = initials\n",
    "df"
   ]
  },
  {
   "cell_type": "code",
   "execution_count": 89,
   "id": "fb11633b-3696-4a30-abe2-452b9709df89",
   "metadata": {},
   "outputs": [
    {
     "data": {
      "text/plain": [
       "<BarContainer object of 4 artists>"
      ]
     },
     "execution_count": 89,
     "metadata": {},
     "output_type": "execute_result"
    },
    {
     "data": {
      "image/png": "[encoded data removed]",
      "text/plain": [
       "<Figure size 640x480 with 1 Axes>"
      ]
     },
     "metadata": {},
     "output_type": "display_data"
    }
   ],
   "source": [
    "import matplotlib.pyplot as plt\n",
    "plt.bar(df.index, df[\"salary\"])"
   ]
  },
  {
   "cell_type": "code",
   "execution_count": 90,
   "id": "9a14b8b1-740a-4da2-ab88-7c9f0b573127",
   "metadata": {},
   "outputs": [
    {
     "data": {
      "text/plain": [
       "<AxesSubplot:xlabel='name'>"
      ]
     },
     "execution_count": 90,
     "metadata": {},
     "output_type": "execute_result"
    },
    {
     "data": {
      "image/png": "[encoded data removed]",
      "text/plain": [
       "<Figure size 640x480 with 1 Axes>"
      ]
     },
     "metadata": {},
     "output_type": "display_data"
    }
   ],
   "source": [
    "df['salary'].plot(kind='bar')"
   ]
  },
  {
   "cell_type": "code",
   "execution_count": 115,
   "id": "11ffdfd4-ec8c-45c4-9474-e61bd45ee9c4",
   "metadata": {},
   "outputs": [
    {
     "data": {
      "text/plain": [
       "<AxesSubplot:title={'center':'Workers age'}, xlabel='name'>"
      ]
     },
     "execution_count": 115,
     "metadata": {},
     "output_type": "execute_result"
    },
    {
     "data": {
      "image/png": "[encoded data removed]",
      "text/plain": [
       "<Figure size 640x480 with 1 Axes>"
      ]
     },
     "metadata": {},
     "output_type": "display_data"
    }
   ],
   "source": [
    "df['age'].plot(kind='bar', color=\"y\", title = \"Workers age\")\n"
   ]
  },
  {
   "cell_type": "code",
   "execution_count": 116,
   "id": "23c5293b-c1f0-4cc9-92ab-72728191b1b0",
   "metadata": {},
   "outputs": [],
   "source": [
    "# Iterator"
   ]
  },
  {
   "cell_type": "code",
   "execution_count": 117,
   "id": "2dbdd03a-e1a9-43d4-aa21-1a920903b1a3",
   "metadata": {},
   "outputs": [
    {
     "name": "stdout",
     "output_type": "stream",
     "text": [
      "1000\n",
      "5000\n",
      "7000\n"
     ]
    }
   ],
   "source": [
    "salaries = [1000, 5000, 7000]\n",
    "salary_iterator = iter(salaries)\n",
    "print(next(salary_iterator))\n",
    "print(next(salary_iterator))\n",
    "print(next(salary_iterator))"
   ]
  },
  {
   "cell_type": "code",
   "execution_count": 118,
   "id": "5671fdea-b5ca-4cf2-b351-e228b92a3e8c",
   "metadata": {},
   "outputs": [
    {
     "name": "stdout",
     "output_type": "stream",
     "text": [
      "Total salaries = 13000\n"
     ]
    }
   ],
   "source": [
    "salary_iterator = iter(salaries)\n",
    "salary_sum = 0\n",
    "for salary in salary_iterator:\n",
    "\tsalary_sum = salary_sum + salary\n",
    "print(\"Total salaries = %d\" % salary_sum)"
   ]
  },
  {
   "cell_type": "code",
   "execution_count": 119,
   "id": "998a8033-324c-425a-baac-d27a42a96550",
   "metadata": {},
   "outputs": [],
   "source": [
    "# Konstrukcja -> generator"
   ]
  },
  {
   "cell_type": "code",
   "execution_count": 124,
   "id": "78457457-d413-48ee-942c-f5f281885dac",
   "metadata": {},
   "outputs": [
    {
     "name": "stdout",
     "output_type": "stream",
     "text": [
      "1\n",
      "2\n",
      "3\n",
      "4\n",
      "5\n",
      "6\n",
      "7\n",
      "8\n",
      "9\n",
      "10\n"
     ]
    }
   ],
   "source": [
    "def give_me_first_ten_numbers():\n",
    "    for i in range(1,11):\n",
    "        yield i\n",
    "\n",
    "for number in give_me_first_ten_numbers():\n",
    "    print(number)"
   ]
  },
  {
   "cell_type": "code",
   "execution_count": 125,
   "id": "3909651e-c249-46ef-a832-8d6905323bfb",
   "metadata": {},
   "outputs": [],
   "source": [
    "# Ćwiczenie: generuję liczby"
   ]
  },
  {
   "cell_type": "code",
   "execution_count": 132,
   "id": "9d5f43ff-11cd-4510-a45d-f6591aa7a127",
   "metadata": {},
   "outputs": [
    {
     "name": "stdout",
     "output_type": "stream",
     "text": [
      "210\n"
     ]
    }
   ],
   "source": [
    "sum = 0\n",
    "def give_me_first_ten_numbers(n):\n",
    "    for i in range(1,n):\n",
    "        yield i\n",
    "\n",
    "for number in give_me_first_ten_numbers(21):\n",
    "    sum = sum + number\n",
    "print(sum)"
   ]
  },
  {
   "cell_type": "code",
   "execution_count": null,
   "id": "e0f4fd63-5626-48b8-8ef3-5998a83c2743",
   "metadata": {},
   "outputs": [],
   "source": [
    "# Zadanie: więcej wykresów"
   ]
  },
  {
   "cell_type": "code",
   "execution_count": 176,
   "id": "57a20501-c607-4bcd-b934-aae4ea0acd6e",
   "metadata": {},
   "outputs": [],
   "source": [
    "prices = [\n",
    "\t(1, 2.12, 0),\n",
    "\t(2, 2.56, 0),\n",
    "\t(3, 3.10, 0),\n",
    "\t(4, 3.16, 0),\n",
    "\t(5, 3.58, 0),\n",
    "\t(6, 5.12, 0),\n",
    "\t(7, 5.16, 0),\n",
    "\t(8, 5.20, 0),\n",
    "\t(9, 4.12, 0),\n",
    "\t(10, 4.10, 0),\n",
    "\t(11, 3.65, 0),\n",
    "\t(12, 4.25, 0),\n",
    "]"
   ]
  },
  {
   "cell_type": "code",
   "execution_count": 178,
   "id": "1dd078a0-5c22-4ad4-aa59-09f2f816ef48",
   "metadata": {},
   "outputs": [
    {
     "data": {
      "text/html": [
       "<div>\n",
       "<style scoped>\n",
       "    .dataframe tbody tr th:only-of-type {\n",
       "        vertical-align: middle;\n",
       "    }\n",
       "\n",
       "    .dataframe tbody tr th {\n",
       "        vertical-align: top;\n",
       "    }\n",
       "\n",
       "    .dataframe thead th {\n",
       "        text-align: right;\n",
       "    }\n",
       "</style>\n",
       "<table border=\"1\" class=\"dataframe\">\n",
       "  <thead>\n",
       "    <tr style=\"text-align: right;\">\n",
       "      <th></th>\n",
       "      <th>price</th>\n",
       "      <th>priceUSD</th>\n",
       "    </tr>\n",
       "    <tr>\n",
       "      <th>month</th>\n",
       "      <th></th>\n",
       "      <th></th>\n",
       "    </tr>\n",
       "  </thead>\n",
       "  <tbody>\n",
       "    <tr>\n",
       "      <th>1</th>\n",
       "      <td>2.12</td>\n",
       "      <td>0</td>\n",
       "    </tr>\n",
       "    <tr>\n",
       "      <th>2</th>\n",
       "      <td>2.56</td>\n",
       "      <td>0</td>\n",
       "    </tr>\n",
       "    <tr>\n",
       "      <th>3</th>\n",
       "      <td>3.10</td>\n",
       "      <td>0</td>\n",
       "    </tr>\n",
       "    <tr>\n",
       "      <th>4</th>\n",
       "      <td>3.16</td>\n",
       "      <td>0</td>\n",
       "    </tr>\n",
       "    <tr>\n",
       "      <th>5</th>\n",
       "      <td>3.58</td>\n",
       "      <td>0</td>\n",
       "    </tr>\n",
       "    <tr>\n",
       "      <th>6</th>\n",
       "      <td>5.12</td>\n",
       "      <td>0</td>\n",
       "    </tr>\n",
       "    <tr>\n",
       "      <th>7</th>\n",
       "      <td>5.16</td>\n",
       "      <td>0</td>\n",
       "    </tr>\n",
       "    <tr>\n",
       "      <th>8</th>\n",
       "      <td>5.20</td>\n",
       "      <td>0</td>\n",
       "    </tr>\n",
       "    <tr>\n",
       "      <th>9</th>\n",
       "      <td>4.12</td>\n",
       "      <td>0</td>\n",
       "    </tr>\n",
       "    <tr>\n",
       "      <th>10</th>\n",
       "      <td>4.10</td>\n",
       "      <td>0</td>\n",
       "    </tr>\n",
       "    <tr>\n",
       "      <th>11</th>\n",
       "      <td>3.65</td>\n",
       "      <td>0</td>\n",
       "    </tr>\n",
       "    <tr>\n",
       "      <th>12</th>\n",
       "      <td>4.25</td>\n",
       "      <td>0</td>\n",
       "    </tr>\n",
       "  </tbody>\n",
       "</table>\n",
       "</div>"
      ],
      "text/plain": [
       "       price  priceUSD\n",
       "month                 \n",
       "1       2.12         0\n",
       "2       2.56         0\n",
       "3       3.10         0\n",
       "4       3.16         0\n",
       "5       3.58         0\n",
       "6       5.12         0\n",
       "7       5.16         0\n",
       "8       5.20         0\n",
       "9       4.12         0\n",
       "10      4.10         0\n",
       "11      3.65         0\n",
       "12      4.25         0"
      ]
     },
     "execution_count": 178,
     "metadata": {},
     "output_type": "execute_result"
    }
   ],
   "source": [
    "df = pd.DataFrame(prices, columns=[\"month\", \"price\", \"priceUSD\"])\n",
    "df = df.set_index(\"month\")\n",
    "df"
   ]
  },
  {
   "cell_type": "code",
   "execution_count": 165,
   "id": "a77081ca-a84d-4cc7-9686-777c8fa5596f",
   "metadata": {},
   "outputs": [
    {
     "name": "stdout",
     "output_type": "stream",
     "text": [
      "[8.48, 10.24, 12.4, 12.64, 14.32, 20.48, 20.64, 20.8, 16.48, 16.4, 14.6, 17.0]\n"
     ]
    }
   ],
   "source": [
    "priceUSD = []\n",
    "for i in df[\"price\"]:\n",
    "    PriceUSD = i * 4\n",
    "    priceUSD.append(PriceUSD)\n",
    "print(priceUSD)    "
   ]
  },
  {
   "cell_type": "code",
   "execution_count": 181,
   "id": "1c406236-744c-45dc-b443-4b9dea8c2934",
   "metadata": {},
   "outputs": [
    {
     "data": {
      "text/html": [
       "<div>\n",
       "<style scoped>\n",
       "    .dataframe tbody tr th:only-of-type {\n",
       "        vertical-align: middle;\n",
       "    }\n",
       "\n",
       "    .dataframe tbody tr th {\n",
       "        vertical-align: top;\n",
       "    }\n",
       "\n",
       "    .dataframe thead th {\n",
       "        text-align: right;\n",
       "    }\n",
       "</style>\n",
       "<table border=\"1\" class=\"dataframe\">\n",
       "  <thead>\n",
       "    <tr style=\"text-align: right;\">\n",
       "      <th></th>\n",
       "      <th>price</th>\n",
       "      <th>priceUSD</th>\n",
       "    </tr>\n",
       "    <tr>\n",
       "      <th>month</th>\n",
       "      <th></th>\n",
       "      <th></th>\n",
       "    </tr>\n",
       "  </thead>\n",
       "  <tbody>\n",
       "    <tr>\n",
       "      <th>1</th>\n",
       "      <td>2.12</td>\n",
       "      <td>8.48</td>\n",
       "    </tr>\n",
       "    <tr>\n",
       "      <th>2</th>\n",
       "      <td>2.56</td>\n",
       "      <td>10.24</td>\n",
       "    </tr>\n",
       "    <tr>\n",
       "      <th>3</th>\n",
       "      <td>3.10</td>\n",
       "      <td>12.40</td>\n",
       "    </tr>\n",
       "    <tr>\n",
       "      <th>4</th>\n",
       "      <td>3.16</td>\n",
       "      <td>12.64</td>\n",
       "    </tr>\n",
       "    <tr>\n",
       "      <th>5</th>\n",
       "      <td>3.58</td>\n",
       "      <td>14.32</td>\n",
       "    </tr>\n",
       "    <tr>\n",
       "      <th>6</th>\n",
       "      <td>5.12</td>\n",
       "      <td>20.48</td>\n",
       "    </tr>\n",
       "    <tr>\n",
       "      <th>7</th>\n",
       "      <td>5.16</td>\n",
       "      <td>20.64</td>\n",
       "    </tr>\n",
       "    <tr>\n",
       "      <th>8</th>\n",
       "      <td>5.20</td>\n",
       "      <td>20.80</td>\n",
       "    </tr>\n",
       "    <tr>\n",
       "      <th>9</th>\n",
       "      <td>4.12</td>\n",
       "      <td>16.48</td>\n",
       "    </tr>\n",
       "    <tr>\n",
       "      <th>10</th>\n",
       "      <td>4.10</td>\n",
       "      <td>16.40</td>\n",
       "    </tr>\n",
       "    <tr>\n",
       "      <th>11</th>\n",
       "      <td>3.65</td>\n",
       "      <td>14.60</td>\n",
       "    </tr>\n",
       "    <tr>\n",
       "      <th>12</th>\n",
       "      <td>4.25</td>\n",
       "      <td>17.00</td>\n",
       "    </tr>\n",
       "  </tbody>\n",
       "</table>\n",
       "</div>"
      ],
      "text/plain": [
       "       price  priceUSD\n",
       "month                 \n",
       "1       2.12      8.48\n",
       "2       2.56     10.24\n",
       "3       3.10     12.40\n",
       "4       3.16     12.64\n",
       "5       3.58     14.32\n",
       "6       5.12     20.48\n",
       "7       5.16     20.64\n",
       "8       5.20     20.80\n",
       "9       4.12     16.48\n",
       "10      4.10     16.40\n",
       "11      3.65     14.60\n",
       "12      4.25     17.00"
      ]
     },
     "execution_count": 181,
     "metadata": {},
     "output_type": "execute_result"
    }
   ],
   "source": [
    "df[\"priceUSD\"] = priceUSD\n",
    "df"
   ]
  },
  {
   "cell_type": "code",
   "execution_count": 190,
   "id": "54a38ee2-d147-411b-8f94-7970598fa27f",
   "metadata": {},
   "outputs": [
    {
     "data": {
      "text/plain": [
       "<AxesSubplot:title={'center':'Price of goods (USD)'}, xlabel='month'>"
      ]
     },
     "execution_count": 190,
     "metadata": {},
     "output_type": "execute_result"
    },
    {
     "data": {
      "image/png": "[encoded data removed]",
      "text/plain": [
       "<Figure size 640x480 with 1 Axes>"
      ]
     },
     "metadata": {},
     "output_type": "display_data"
    }
   ],
   "source": [
    "df['priceUSD'].plot(kind='line', style=\"--\" , color=\"r\", title = \"Price of goods (USD)\")"
   ]
  }
 ],
 "metadata": {
  "kernelspec": {
   "display_name": "Python 3 (ipykernel)",
   "language": "python",
   "name": "python3"
  },
  "language_info": {
   "codemirror_mode": {
    "name": "ipython",
    "version": 3
   },
   "file_extension": ".py",
   "mimetype": "text/x-python",
   "name": "python",
   "nbconvert_exporter": "python",
   "pygments_lexer": "ipython3",
   "version": "3.9.13"
  }
 },
 "nbformat": 4,
 "nbformat_minor": 5
}
