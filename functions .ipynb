{
 "cells": [
  {
   "cell_type": "markdown",
   "id": "7c1ea05f-f769-4a21-af4f-4d0a1ea6deed",
   "metadata": {},
   "source": [
    "W celu stworzenia funkcji użyj słowa def"
   ]
  },
  {
   "cell_type": "code",
   "execution_count": 11,
   "id": "5f90e48e-e5b4-41f0-ab7d-5d4f10526677",
   "metadata": {},
   "outputs": [],
   "source": [
    "def add(a,b):\n",
    "    sum = a + b\n",
    "    return sum"
   ]
  },
  {
   "cell_type": "code",
   "execution_count": 5,
   "id": "070257cc-2c23-443e-93b0-b1a5d4435db2",
   "metadata": {},
   "outputs": [
    {
     "name": "stdout",
     "output_type": "stream",
     "text": [
      "Teraz wywołamy tą funkcję\n"
     ]
    }
   ],
   "source": [
    "print(\"Teraz wywołamy tą funkcję\")"
   ]
  },
  {
   "cell_type": "code",
   "execution_count": 17,
   "id": "68606f07-f7ff-4a4c-b199-91d529db5652",
   "metadata": {},
   "outputs": [],
   "source": [
    "suma = add(2,3)"
   ]
  },
  {
   "cell_type": "code",
   "execution_count": 18,
   "id": "f33e2a2d-35be-495c-8ad7-b1c53ee6b568",
   "metadata": {},
   "outputs": [
    {
     "name": "stdout",
     "output_type": "stream",
     "text": [
      "5\n"
     ]
    }
   ],
   "source": [
    "print(suma)"
   ]
  }
 ],
 "metadata": {
  "kernelspec": {
   "display_name": "Python 3 (ipykernel)",
   "language": "python",
   "name": "python3"
  },
  "language_info": {
   "codemirror_mode": {
    "name": "ipython",
    "version": 3
   },
   "file_extension": ".py",
   "mimetype": "text/x-python",
   "name": "python",
   "nbconvert_exporter": "python",
   "pygments_lexer": "ipython3",
   "version": "3.9.13"
  }
 },
 "nbformat": 4,
 "nbformat_minor": 5
}
