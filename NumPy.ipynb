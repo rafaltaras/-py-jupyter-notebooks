{
 "cells": [
  {
   "cell_type": "code",
   "execution_count": 1,
   "id": "071a5273-5b97-4eca-a5a9-b5de1791fa0a",
   "metadata": {},
   "outputs": [
    {
     "data": {
      "text/plain": [
       "'1.21.5'"
      ]
     },
     "execution_count": 1,
     "metadata": {},
     "output_type": "execute_result"
    }
   ],
   "source": [
    "import numpy as np\n",
    "np.__version__"
   ]
  },
  {
   "cell_type": "code",
   "execution_count": 19,
   "id": "bc3f6497-d3db-4b51-8aa8-06d999720b43",
   "metadata": {},
   "outputs": [],
   "source": [
    "# Szereg"
   ]
  },
  {
   "cell_type": "code",
   "execution_count": null,
   "id": "65a87466-b5f0-4863-81c0-f114b90a66fc",
   "metadata": {},
   "outputs": [],
   "source": []
  },
  {
   "cell_type": "markdown",
   "id": "d6ca1a4f-0df9-4367-873b-569341632f17",
   "metadata": {},
   "source": [
    "list_numbers = [1,2,3]"
   ]
  },
  {
   "cell_type": "code",
   "execution_count": 3,
   "id": "b496db3b-7431-4914-a016-ac6f68309be5",
   "metadata": {},
   "outputs": [],
   "source": [
    "list_everything = [1, False, \"Some random string\"]"
   ]
  },
  {
   "cell_type": "code",
   "execution_count": 6,
   "id": "3e37d046-aa72-4ce4-911c-617b0890f4b3",
   "metadata": {},
   "outputs": [
    {
     "data": {
      "text/plain": [
       "array(['1', '2', '1'], dtype='<U11')"
      ]
     },
     "execution_count": 6,
     "metadata": {},
     "output_type": "execute_result"
    }
   ],
   "source": [
    "np.array([1,2,\"1\"])"
   ]
  },
  {
   "cell_type": "code",
   "execution_count": 7,
   "id": "c101e2e0-10a6-42a4-bb39-73c999009681",
   "metadata": {},
   "outputs": [
    {
     "data": {
      "text/plain": [
       "list"
      ]
     },
     "execution_count": 7,
     "metadata": {},
     "output_type": "execute_result"
    }
   ],
   "source": [
    "classic_list = [1, 2, 3, 5, 7, 11]\n",
    "type(classic_list)"
   ]
  },
  {
   "cell_type": "code",
   "execution_count": 8,
   "id": "7c31bfc9-f218-4db4-b6b7-1c049a388709",
   "metadata": {},
   "outputs": [
    {
     "data": {
      "text/plain": [
       "numpy.ndarray"
      ]
     },
     "execution_count": 8,
     "metadata": {},
     "output_type": "execute_result"
    }
   ],
   "source": [
    "numpy_array = np.array(classic_list)\n",
    "type(numpy_array)"
   ]
  },
  {
   "cell_type": "code",
   "execution_count": 9,
   "id": "3f2913ce-1f51-43c6-a4ef-5041f5c9ba74",
   "metadata": {},
   "outputs": [
    {
     "data": {
      "text/plain": [
       "(6,)"
      ]
     },
     "execution_count": 9,
     "metadata": {},
     "output_type": "execute_result"
    }
   ],
   "source": [
    "numpy_array.shape"
   ]
  },
  {
   "cell_type": "code",
   "execution_count": 11,
   "id": "c130e57c-403d-41c4-8bed-289306f86213",
   "metadata": {},
   "outputs": [
    {
     "data": {
      "text/plain": [
       "3.0"
      ]
     },
     "execution_count": 11,
     "metadata": {},
     "output_type": "execute_result"
    }
   ],
   "source": [
    "np.array([2,4]).mean()"
   ]
  },
  {
   "cell_type": "code",
   "execution_count": 18,
   "id": "1fb8b4af-e19e-4f4d-b112-3775f96b879a",
   "metadata": {},
   "outputs": [],
   "source": [
    "# Macierz"
   ]
  },
  {
   "cell_type": "code",
   "execution_count": 15,
   "id": "dfa3f71b-149f-404f-a477-de90f827daf0",
   "metadata": {},
   "outputs": [
    {
     "data": {
      "text/plain": [
       "(2, 3)"
      ]
     },
     "execution_count": 15,
     "metadata": {},
     "output_type": "execute_result"
    }
   ],
   "source": [
    "numpy_matrix = np.array([[1,2,3], [5,7,11]])\n",
    "numpy_matrix.shape"
   ]
  },
  {
   "cell_type": "code",
   "execution_count": 16,
   "id": "46be8232-91dd-41be-94c7-9a577ccdd129",
   "metadata": {},
   "outputs": [],
   "source": [
    "matrix1 = np.array([\n",
    "\t[1,2,3],\n",
    "\t[4,5,6],\n",
    "\t[7,8,9]\n",
    "])"
   ]
  },
  {
   "cell_type": "code",
   "execution_count": 17,
   "id": "faed3790-6412-45ac-87d5-fc14c59f5a7f",
   "metadata": {},
   "outputs": [
    {
     "data": {
      "text/plain": [
       "array([1, 2, 3])"
      ]
     },
     "execution_count": 17,
     "metadata": {},
     "output_type": "execute_result"
    }
   ],
   "source": [
    "#możemy pobrać pierwszy wiersz takim indeksowaniem\n",
    "matrix1[0, :]"
   ]
  },
  {
   "cell_type": "code",
   "execution_count": 21,
   "id": "0aab09ce-c4da-402e-a8f1-31ee567034bd",
   "metadata": {},
   "outputs": [
    {
     "data": {
      "text/plain": [
       "array([3, 6, 9])"
      ]
     },
     "execution_count": 21,
     "metadata": {},
     "output_type": "execute_result"
    }
   ],
   "source": [
    "# a ostatnia kolumna to\n",
    "matrix1[:, -1]"
   ]
  },
  {
   "cell_type": "code",
   "execution_count": 24,
   "id": "afe7342d-a93b-4710-b782-ef0f6a72af45",
   "metadata": {},
   "outputs": [],
   "source": [
    "# Operacje\n",
    "# Po pierwsze możemy sumować, uśredniać macierze jako całość, ale też wybierać określone wiersze czy kolumny."
   ]
  },
  {
   "cell_type": "code",
   "execution_count": 26,
   "id": "b6a8456a-2cb2-4e7d-9bf1-18358d076ba8",
   "metadata": {},
   "outputs": [],
   "source": [
    "# Dajmy taką macierz:\n",
    "matrix2 = np.array([\n",
    "\t[1,2,3],\n",
    "\t[0,8,10],\n",
    "\t[1,10,12]\n",
    "])"
   ]
  },
  {
   "cell_type": "code",
   "execution_count": 27,
   "id": "393a62ec-ac55-4523-a9c5-6e1749b86c1c",
   "metadata": {},
   "outputs": [
    {
     "data": {
      "text/plain": [
       "47"
      ]
     },
     "execution_count": 27,
     "metadata": {},
     "output_type": "execute_result"
    }
   ],
   "source": [
    "matrix2.sum()"
   ]
  },
  {
   "cell_type": "code",
   "execution_count": 28,
   "id": "db33e0db-b5a6-4495-a7aa-34996a59a6c4",
   "metadata": {},
   "outputs": [],
   "source": [
    "# Chcielibyśmy jednak wejść nieco głębiej i zadać pytanie – jakie sumy mają całe wiersze i kolumny? \n",
    "# Wtedy należy dodać parametr axis do danej metody statystycznej, np. sum. Pamiętaj, że w tym konkretnym przypadku 0 jako wartość argumentu axis to kolumny, a 1 to wiersze.\n",
    "# Oczywiście, nie obawiaj się, \n",
    "# nawet jeśli zapomnisz, to zawsze możesz użyć Jupytera albo IPythona do krótkiego testu, by się upewnić."
   ]
  },
  {
   "cell_type": "code",
   "execution_count": 29,
   "id": "3c2ee447-cd4b-4734-b19e-a8d72150d9a8",
   "metadata": {},
   "outputs": [
    {
     "data": {
      "text/plain": [
       "array([ 2, 20, 25])"
      ]
     },
     "execution_count": 29,
     "metadata": {},
     "output_type": "execute_result"
    }
   ],
   "source": [
    "# sumując kolumny, otrzymamy tutaj:\n",
    "matrix2.sum(axis=0)"
   ]
  },
  {
   "cell_type": "code",
   "execution_count": 30,
   "id": "33cdacb8-4b24-40dc-bdae-3358fd3773f6",
   "metadata": {},
   "outputs": [
    {
     "data": {
      "text/plain": [
       "array([ 6, 18, 23])"
      ]
     },
     "execution_count": 30,
     "metadata": {},
     "output_type": "execute_result"
    }
   ],
   "source": [
    "# sumując wiersze\n",
    "matrix2.sum(axis=1)"
   ]
  },
  {
   "cell_type": "code",
   "execution_count": 31,
   "id": "78c46b21-3798-422a-bed1-cc26a064c4c2",
   "metadata": {},
   "outputs": [
    {
     "data": {
      "text/plain": [
       "array([ 9, 11])"
      ]
     },
     "execution_count": 31,
     "metadata": {},
     "output_type": "execute_result"
    }
   ],
   "source": [
    "# Podstawowe zadanie to dodawanie wektorów. Wykonywane jest ono z użyciem operatora +.\n",
    "np.array([1,2]) + np.array([8,9])"
   ]
  },
  {
   "cell_type": "code",
   "execution_count": 32,
   "id": "63631ac9-dea8-472f-8638-b13a88a1d8f9",
   "metadata": {},
   "outputs": [
    {
     "data": {
      "text/plain": [
       "array([[ 9, 11],\n",
       "       [13, 15]])"
      ]
     },
     "execution_count": 32,
     "metadata": {},
     "output_type": "execute_result"
    }
   ],
   "source": [
    "#  dodawać i mnożyć macierze.\n",
    "np.array([\n",
    "\t[1,2],\n",
    "\t[3,4]\n",
    "]) + \\\n",
    "np.array([\n",
    "\t[8,9],\n",
    "\t[10,11]\n",
    "])"
   ]
  },
  {
   "cell_type": "code",
   "execution_count": 33,
   "id": "9e0af5dd-7edf-47fe-81b4-5bdf3c2fe651",
   "metadata": {},
   "outputs": [
    {
     "data": {
      "text/plain": [
       "array([3, 7])"
      ]
     },
     "execution_count": 33,
     "metadata": {},
     "output_type": "execute_result"
    }
   ],
   "source": [
    "#  Dostępny jest też tzw. iloczyn skalarny (ang. dot product).\n",
    "np.array([\n",
    "\t[1,2],\n",
    "\t[3,4]\n",
    "]).dot([1,1])"
   ]
  },
  {
   "cell_type": "code",
   "execution_count": null,
   "id": "54c08614-6f34-4799-8369-65d1db1935ef",
   "metadata": {},
   "outputs": [],
   "source": []
  }
 ],
 "metadata": {
  "kernelspec": {
   "display_name": "Python 3 (ipykernel)",
   "language": "python",
   "name": "python3"
  },
  "language_info": {
   "codemirror_mode": {
    "name": "ipython",
    "version": 3
   },
   "file_extension": ".py",
   "mimetype": "text/x-python",
   "name": "python",
   "nbconvert_exporter": "python",
   "pygments_lexer": "ipython3",
   "version": "3.9.13"
  }
 },
 "nbformat": 4,
 "nbformat_minor": 5
}
